{
 "cells": [
  {
   "cell_type": "markdown",
   "metadata": {},
   "source": [
    "# Предсказание следующего слова или окончания для языка эсперанто\n",
    "Задачей данного проекта является создание модели, которая будет предсказывать следующее слово или окончание текущего для [языка эсперанто](https://lernu.net/ru/esperanto) подобно тому, как это делают клавиатуры телефона. В рамках проекта будет реализовано две модели: одна, использующая [Марковские цепи](https://github.com/sandeepbhutani304/markov-predict-next-word/blob/master/markov_nextwordpred.py), и вторая, использующая [transformers](https://huggingface.co/blog/how-to-train)."
   ]
  },
  {
   "cell_type": "markdown",
   "metadata": {},
   "source": [
    "## Метрика\n",
    "В качестве метрики для оценки качества предсказаний модели я буду использовать самописную функцию, которая будет брать часть текста и сравнивать предсказанное слово с тем, что на самом деле идёт в тексте. Так как в самой задаче предполагается, что модель будет выводиться несколько вариантов для следующего слова (как это и делают современные телефонные клавиатуры), то учитываться должны не только самые вероятные слова, но и следующие по вероятности.\n",
    "Метрика включает в себя два числа. Обы числа считаются, как отношения количества угаданных случаев (слово есть среди предсказанных) на общее количество случаев, но первое число метрики ещё учитывает какую позицию слово занимало в предсказании: если слово было первым среди предсказанных, то оно получает 1 балл, если вторым, то 0,75, третьим – 0,625, т.е. *0,5 + 1 / (2 ^ top)*"
   ]
  },
  {
   "cell_type": "code",
   "execution_count": 25,
   "metadata": {},
   "outputs": [],
   "source": [
    "def metric(model, seq_len=2, top=3, test_data=\"../data/test-pure.txt\"):\n",
    "    from tqdm import tqdm\n",
    "    data = open(test_data, encoding=\"utf-8\").read().split(\"\\n\")\n",
    "    data = [line.split() for line in data]\n",
    "    s = 0\n",
    "    s2 = 0\n",
    "    n = 0\n",
    "    for line in tqdm(data):\n",
    "        for i in range(len(line) - seq_len):\n",
    "            n += 1\n",
    "            if seq_len > 1:\n",
    "                sent = \" \".join(line[i:i+seq_len])\n",
    "            else:\n",
    "                sent = line[i]\n",
    "            pred = model(sent)[:top]\n",
    "            if len(pred) == 0:\n",
    "                continue\n",
    "            t = 1\n",
    "            for w in pred:\n",
    "                if w == line[i+seq_len]:\n",
    "                    s += 0.5 + 1 / (2 ** t)\n",
    "                    s2 += 1\n",
    "                    continue\n",
    "                t += 1\n",
    "    return (s/n, s2/n)"
   ]
  },
  {
   "cell_type": "markdown",
   "metadata": {},
   "source": [
    "## Данные\n",
    "Для обучения был взят корпус текса с сайта https://oscar-corpus.com/ размером ~300Мб, содержащий 974367 строчек на языке эсперанто, которые были получены с помощью веб-кроулера. В качестве тестового корпуса был взят корпус Newscrawl с сайта https://wortschatz.uni-leipzig.de/en/download/esperanto, содержащий 1М записей, из которых случайным образом я взял 1000 записей."
   ]
  },
  {
   "cell_type": "code",
   "execution_count": 21,
   "metadata": {},
   "outputs": [],
   "source": [
    "data = [line.strip(\"\\n\") for line in list(open(\"../data/newscrawl.txt\", encoding=\"utf-8\"))]\n",
    "\n",
    "import random\n",
    "random.seed(42)\n",
    "random.shuffle(data)\n",
    "\n",
    "f = open(f'../data/data-test.txt', 'w+', encoding=\"utf-8\")\n",
    "f.write(\"\\n\".join(data[:1000]))\n",
    "f.close()"
   ]
  },
  {
   "cell_type": "markdown",
   "metadata": {},
   "source": [
    "## Подготовка данных\n",
    "Я написал модуль для работы с языком эсперанто. Он способен убрать пунктуацию и спецсиволы из слова, а так же дать вектор, описывающий данное слово (который, увы, мне не пригодился 😔).\n",
    "Для модели, использующей Марковские цепи я очистил вообще весь текст от пунктуации и спец символов, удалил слова из одной буквы, т.к. такие не существуют в языке. Аналогично я сделал для тестового корпуса.\n",
    "Для модели, использующей трансформеры, мы будем использовать токенайзер."
   ]
  },
  {
   "cell_type": "code",
   "execution_count": 2,
   "metadata": {},
   "outputs": [],
   "source": [
    "# Подгружаем библиотеку для работы с эсперанто\n",
    "import sys\n",
    "sys.path.insert(0,'../lib')\n",
    "from Esperanto import Esperanto as esp"
   ]
  },
  {
   "cell_type": "code",
   "execution_count": 5,
   "metadata": {},
   "outputs": [],
   "source": [
    "# Функции для чистки текста\n",
    "def clean_str(text):\n",
    "    from nltk.tokenize import WordPunctTokenizer\n",
    "    tokenizer = WordPunctTokenizer()\n",
    "\n",
    "    return \" \".join([esp(word).text for word in tokenizer.tokenize(text) if esp(word).is_word() and len(esp(word).text) > 1])\n",
    "\n",
    "def clean_text(text):\n",
    "    return \"\\n\".join(clean_str(line) for line in text.split(\"\\n\"))"
   ]
  },
  {
   "cell_type": "code",
   "execution_count": 23,
   "metadata": {},
   "outputs": [],
   "source": [
    "# Удаление пунктуации и спецсимволов\n",
    "f = open(\"../data/eo-train.txt\", encoding=\"utf-8\")\n",
    "data = f.read()\n",
    "f.close()\n",
    "\n",
    "f = open(\"../data/eo-train-pure.txt\", \"w+\", encoding=\"utf-8\")\n",
    "f.write(clean_text(data))\n",
    "f.close()\n",
    "\n",
    "f = open(\"../data/data-test.txt\", encoding=\"utf-8\")\n",
    "data = f.read()\n",
    "f.close()\n",
    "\n",
    "f = open(\"../data/test-pure.txt\", \"w+\", encoding=\"utf-8\")\n",
    "f.write(clean_text(data))\n",
    "f.close()"
   ]
  },
  {
   "cell_type": "markdown",
   "metadata": {},
   "source": [
    "Для модели с трансформерами всё гораздо сложнее в плане подготовки данных..."
   ]
  },
  {
   "cell_type": "code",
   "execution_count": null,
   "metadata": {},
   "outputs": [],
   "source": [
    "# Использование токенайзера\n",
    "\n",
    "# Создание модели для токенайзера\n",
    "from pathlib import Path\n",
    "from tokenizers import ByteLevelBPETokenizer\n",
    "\n",
    "paths = [str(x) for x in Path(\"../data/\").glob(\"**/eo.txt\")]\n",
    "\n",
    "tokenizer = ByteLevelBPETokenizer()\n",
    "\n",
    "tokenizer.train(files=paths, vocab_size=52_000, min_frequency=2, special_tokens=[\n",
    "    \"<s>\",\n",
    "    \"<pad>\",\n",
    "    \"</s>\",\n",
    "    \"<unk>\",\n",
    "    \"<mask>\",\n",
    "])\n",
    "\n",
    "tokenizer.save_model(\"../models\")"
   ]
  },
  {
   "cell_type": "code",
   "execution_count": null,
   "metadata": {},
   "outputs": [],
   "source": [
    "# Загрузка токенайзера из полученных ранее файлов\n",
    "from tokenizers.implementations import ByteLevelBPETokenizer\n",
    "from tokenizers.processors import BertProcessing\n",
    "\n",
    "\n",
    "tokenizer = ByteLevelBPETokenizer(\n",
    "    \"../models/vocab.json\",\n",
    "    \"../models/merges.txt\",\n",
    ")\n",
    "\n",
    "tokenizer._tokenizer.post_processor = BertProcessing(\n",
    "    (\"</s>\", tokenizer.token_to_id(\"</s>\")),\n",
    "    (\"<s>\", tokenizer.token_to_id(\"<s>\")),\n",
    ")\n",
    "tokenizer.enable_truncation(max_length=512)"
   ]
  },
  {
   "cell_type": "markdown",
   "metadata": {},
   "source": [
    "Поскольку модель похожа на [BERT](https://en.wikipedia.org/wiki/BERT_(language_model)), мы обучим ее задаче моделирования маскированного языка, то есть предсказанию того, как заполнить произвольные маркеры, которые мы случайным образом маскируем в наборе данных"
   ]
  },
  {
   "cell_type": "code",
   "execution_count": null,
   "metadata": {},
   "outputs": [],
   "source": [
    "# Конфигурация модели\n",
    "from transformers import RobertaConfig\n",
    "\n",
    "config = RobertaConfig(\n",
    "    vocab_size=52_000,\n",
    "    max_position_embeddings=514,\n",
    "    num_attention_heads=12,\n",
    "    num_hidden_layers=6,\n",
    "    type_vocab_size=1,\n",
    ")"
   ]
  },
  {
   "cell_type": "code",
   "execution_count": null,
   "metadata": {},
   "outputs": [],
   "source": [
    "# Воссоздадим наш токенизатор в трансформаторах\n",
    "from transformers import RobertaTokenizerFast\n",
    "\n",
    "tokenizer = RobertaTokenizerFast.from_pretrained(\"../models\", max_len=512)"
   ]
  },
  {
   "cell_type": "code",
   "execution_count": null,
   "metadata": {},
   "outputs": [],
   "source": [
    "# Инициализируем модель\n",
    "from transformers import RobertaForMaskedLM\n",
    "\n",
    "model = RobertaForMaskedLM(config=config)"
   ]
  },
  {
   "cell_type": "code",
   "execution_count": null,
   "metadata": {},
   "outputs": [],
   "source": [
    "# Создаём датасет для модели\n",
    "from transformers import LineByLineTextDataset\n",
    "\n",
    "dataset = LineByLineTextDataset(\n",
    "    tokenizer=tokenizer,\n",
    "    file_path=\"../data/eo-train.txt\",\n",
    "    block_size=128,\n",
    ")"
   ]
  },
  {
   "cell_type": "markdown",
   "metadata": {},
   "source": [
    "Помощник, который поможет нам объединить различные образцы набора данных вместе в объект, на котором PyTorch знает, как выполнить backprop:"
   ]
  },
  {
   "cell_type": "code",
   "execution_count": null,
   "metadata": {},
   "outputs": [],
   "source": [
    "from transformers import DataCollatorForLanguageModeling\n",
    "\n",
    "data_collator = DataCollatorForLanguageModeling(\n",
    "    tokenizer=tokenizer, mlm=True, mlm_probability=0.15\n",
    ")"
   ]
  },
  {
   "cell_type": "markdown",
   "metadata": {},
   "source": [
    "## Построение и обучение моделей"
   ]
  },
  {
   "cell_type": "markdown",
   "metadata": {},
   "source": [
    "### Модель на цепях Маркова"
   ]
  },
  {
   "cell_type": "code",
   "execution_count": 11,
   "metadata": {},
   "outputs": [],
   "source": [
    "import pandas as pd\n",
    "from tqdm import tqdm\n",
    "\n",
    "# Переменные, в которых хранится информация модели\n",
    "first_possible_words = {}\n",
    "second_possible_words = {}\n",
    "transitions = {}\n",
    "\n",
    "# Вспомогательные функции\n",
    "def expandDict(dictionary, key, value):\n",
    "    if key not in dictionary:\n",
    "        dictionary[key] = []\n",
    "    dictionary[key].append(value)\n",
    "    \n",
    "def get_next_probability(given_list):\n",
    "    probability_dict = {}\n",
    "    given_list_length = len(given_list)\n",
    "    for item in given_list:\n",
    "        probability_dict[item] = probability_dict.get(item, 0) + 1\n",
    "    for key, value in probability_dict.items():\n",
    "        probability_dict[key] = value / given_list_length\n",
    "    return probability_dict\n",
    "\n",
    "# Функция для обучения\n",
    "def trainMarkovModel(data):\n",
    "    from nltk.tokenize import WordPunctTokenizer\n",
    "    \n",
    "    tokenizer = WordPunctTokenizer()\n",
    "    data_tok = [tokenizer.tokenize(line.lower()) for line in data]\n",
    "       \n",
    "    for line in tqdm(data_tok):\n",
    "        tokens = [str(esp(i)) for i in line if esp(i).is_word()]\n",
    "        tokens_length = len(tokens)\n",
    "        for i in range(tokens_length):\n",
    "            token = tokens[i]\n",
    "            if i == 0:\n",
    "                first_possible_words[token] = first_possible_words.get(token, 0) + 1\n",
    "            else:\n",
    "                prev_token = tokens[i - 1]\n",
    "                if i == tokens_length - 1:\n",
    "                    expandDict(transitions, (prev_token, token), 'END')\n",
    "                if i == 1:\n",
    "                    expandDict(second_possible_words, prev_token, token)\n",
    "                else:\n",
    "                    prev_prev_token = tokens[i - 2]\n",
    "                    expandDict(transitions, (prev_prev_token, prev_token), token)\n",
    "    \n",
    "    first_possible_words_total = sum(first_possible_words.values())\n",
    "    for key, value in first_possible_words.items():\n",
    "        first_possible_words[key] = value / first_possible_words_total\n",
    "        \n",
    "    for prev_word, next_word_list in second_possible_words.items():\n",
    "        second_possible_words[prev_word] = get_next_probability(next_word_list)\n",
    "        \n",
    "    for word_pair, next_word_list in transitions.items():\n",
    "        transitions[word_pair] = get_next_probability(next_word_list)\n",
    "    \n",
    "# Функция предсказания следующего слова\n",
    "def next_word(tpl, top=-1):\n",
    "    if(type(tpl) == str):\n",
    "        d = second_possible_words.get(tpl)\n",
    "        if (d is not None):\n",
    "            return pd.DataFrame(d.items(), columns=[\"word\", \"prob\"]).sort_values(by=\"prob\", ascending=False).head(top)\n",
    "    if(type(tpl) == tuple): \n",
    "        d = transitions.get(tpl)\n",
    "        if(d == None):\n",
    "            return []\n",
    "        return pd.DataFrame(d.items(), columns=[\"word\", \"prob\"]).sort_values(by=\"prob\", ascending=False).head(top)\n",
    "    return None"
   ]
  },
  {
   "cell_type": "code",
   "execution_count": 9,
   "metadata": {},
   "outputs": [],
   "source": [
    "# Функции для сохранения и загрузки переменных модели Маркова\n",
    "import pickle\n",
    "def save_obj(obj, name):\n",
    "    with open('../models/'+ name + '.pkl', 'wb') as f:\n",
    "        pickle.dump(obj, f, pickle.HIGHEST_PROTOCOL)\n",
    "\n",
    "def load_obj(name):\n",
    "    with open('../models/' + name + '.pkl', 'rb') as f:\n",
    "        return pickle.load(f)"
   ]
  },
  {
   "cell_type": "code",
   "execution_count": null,
   "metadata": {},
   "outputs": [],
   "source": [
    "# Загружаем очищенные данные и обучаем модель\n",
    "data = open(\"../data/eo-train-pure.txt\", encoding=\"utf-8\").read().split(\"\\n\")\n",
    "trainMarkovModel(data)"
   ]
  },
  {
   "cell_type": "code",
   "execution_count": null,
   "metadata": {},
   "outputs": [],
   "source": [
    "# Сохраняем модель\n",
    "save_obj(second_possible_words, \"second_possible_words\")\n",
    "save_obj(transitions, \"transitions\")"
   ]
  },
  {
   "cell_type": "markdown",
   "metadata": {},
   "source": [
    "### Модель на трансформерах"
   ]
  },
  {
   "cell_type": "code",
   "execution_count": null,
   "metadata": {},
   "outputs": [],
   "source": [
    "# Задаём параметры для обучения\n",
    "from transformers import Trainer, TrainingArguments\n",
    "\n",
    "training_args = TrainingArguments(\n",
    "    output_dir=\"../models\",\n",
    "    overwrite_output_dir=True,\n",
    "    num_train_epochs=1,\n",
    "    per_gpu_train_batch_size=64,\n",
    "    save_steps=10_000,\n",
    "    save_total_limit=2,\n",
    ")\n",
    "\n",
    "trainer = Trainer(\n",
    "    model=model,\n",
    "    args=training_args,\n",
    "    data_collator=data_collator,\n",
    "    train_dataset=dataset,\n",
    "    prediction_loss_only=True,\n",
    ")"
   ]
  },
  {
   "cell_type": "code",
   "execution_count": null,
   "metadata": {},
   "outputs": [],
   "source": [
    "# Чистим память у GPU\n",
    "import torch\n",
    "torch.cuda.empty_cache()"
   ]
  },
  {
   "cell_type": "code",
   "execution_count": 36,
   "metadata": {},
   "outputs": [],
   "source": [
    "# Подключаем и используем TensorBoard\n",
    "%load_ext tensorboard"
   ]
  },
  {
   "cell_type": "code",
   "execution_count": 37,
   "metadata": {},
   "outputs": [
    {
     "data": {
      "text/plain": [
       "ERROR: Timed out waiting for TensorBoard to start. It may still be running as pid 10968."
      ]
     },
     "metadata": {},
     "output_type": "display_data"
    }
   ],
   "source": [
    "%tensorboard --logdir './runs/'"
   ]
  },
  {
   "cell_type": "markdown",
   "metadata": {},
   "source": [
    "Т.к. для отображения графиков надо запускать ноутбук, то вот скриншот с TensorBoard:\n",
    "<img src=\"data:image/png;base64,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\">"
   ]
  },
  {
   "cell_type": "code",
   "execution_count": null,
   "metadata": {},
   "outputs": [],
   "source": [
    "trainer.train()"
   ]
  },
  {
   "cell_type": "code",
   "execution_count": null,
   "metadata": {},
   "outputs": [],
   "source": [
    "# Запускаем обучение моделт\n",
    "trainer.train()"
   ]
  },
  {
   "cell_type": "code",
   "execution_count": null,
   "metadata": {},
   "outputs": [],
   "source": [
    "# Сохраняем полученную модель\n",
    "trainer.save_model(\"../models\")"
   ]
  },
  {
   "cell_type": "markdown",
   "metadata": {},
   "source": [
    "## Оценка полученных моделей"
   ]
  },
  {
   "cell_type": "markdown",
   "metadata": {},
   "source": [
    "### Оценка модели на цепях Маркова"
   ]
  },
  {
   "cell_type": "code",
   "execution_count": 10,
   "metadata": {},
   "outputs": [],
   "source": [
    "# Функция для работы с нашей функцией метрики\n",
    "def Markov_model(text):\n",
    "    if text.find(\" \") != -1:\n",
    "        text = tuple(text.split())\n",
    "    pred = next_word(text)\n",
    "    if pred is None or len(pred) == 0:\n",
    "        return []\n",
    "    return list(pred.word.values)"
   ]
  },
  {
   "cell_type": "code",
   "execution_count": 13,
   "metadata": {},
   "outputs": [],
   "source": [
    "# Загружаем модель\n",
    "second_possible_words = load_obj(\"second_possible_words\")\n",
    "transitions = load_obj(\"transitions\")"
   ]
  },
  {
   "cell_type": "code",
   "execution_count": 26,
   "metadata": {},
   "outputs": [
    {
     "name": "stderr",
     "output_type": "stream",
     "text": [
      "100%|██████████████████████████████████████████████████████████████████████████████| 1000/1000 [00:34<00:00, 28.71it/s]\n"
     ]
    },
    {
     "data": {
      "text/plain": [
       "(0.10794935211570515, 0.11731813538362278)"
      ]
     },
     "execution_count": 26,
     "metadata": {},
     "output_type": "execute_result"
    }
   ],
   "source": [
    "# Смотрим метрики для ТОП3 предсказанных слов на основе одного предыдущего слова\n",
    "metric(Markov_model, seq_len=1, top=3)"
   ]
  },
  {
   "cell_type": "code",
   "execution_count": 27,
   "metadata": {},
   "outputs": [
    {
     "name": "stderr",
     "output_type": "stream",
     "text": [
      "100%|██████████████████████████████████████████████████████████████████████████████| 1000/1000 [00:25<00:00, 39.77it/s]\n"
     ]
    },
    {
     "data": {
      "text/plain": [
       "(0.13688455309960793, 0.15608841411443833)"
      ]
     },
     "execution_count": 27,
     "metadata": {},
     "output_type": "execute_result"
    }
   ],
   "source": [
    "# Смотрим метрики для ТОП5 предсказанных слов на основе двух предыдущих слов\n",
    "metric(Markov_model, seq_len=2, top=5)"
   ]
  },
  {
   "cell_type": "markdown",
   "metadata": {},
   "source": [
    "## Оценка модели на трансормерах"
   ]
  },
  {
   "cell_type": "code",
   "execution_count": 16,
   "metadata": {},
   "outputs": [],
   "source": [
    "# Загружаем модели\n",
    "from transformers import pipeline\n",
    "\n",
    "fill_mask = pipeline(\n",
    "    \"fill-mask\",\n",
    "    model=\"../models\",\n",
    "    tokenizer=\"../models\"\n",
    ")"
   ]
  },
  {
   "cell_type": "code",
   "execution_count": 32,
   "metadata": {},
   "outputs": [],
   "source": [
    "# Функция для работы с нашей функцией метрики\n",
    "def transf_model(text):\n",
    "    text += \" <mask>.\"\n",
    "    fm = fill_mask(text)\n",
    "    res = []\n",
    "    for i in fm:\n",
    "        res.append(esp(i['token_str'].strip('Ġ')).text)\n",
    "    return res"
   ]
  },
  {
   "cell_type": "code",
   "execution_count": 34,
   "metadata": {},
   "outputs": [
    {
     "name": "stderr",
     "output_type": "stream",
     "text": [
      "100%|██████████████████████████████████████████████████████████████████████████████| 1000/1000 [11:52<00:00,  1.40it/s]\n"
     ]
    },
    {
     "data": {
      "text/plain": [
       "(0.003931662992634013, 0.0048389698370880155)"
      ]
     },
     "execution_count": 34,
     "metadata": {},
     "output_type": "execute_result"
    }
   ],
   "source": [
    "# Смотрим метрики для ТОП3 предсказанных слов на основе одного предыдущего слова\n",
    "metric(transf_model, seq_len=1, top=3)"
   ]
  },
  {
   "cell_type": "code",
   "execution_count": 35,
   "metadata": {},
   "outputs": [
    {
     "name": "stderr",
     "output_type": "stream",
     "text": [
      "100%|██████████████████████████████████████████████████████████████████████████████| 1000/1000 [11:44<00:00,  1.42it/s]\n"
     ]
    },
    {
     "data": {
      "text/plain": [
       "(0.03680606852662083, 0.04875277004375249)"
      ]
     },
     "execution_count": 35,
     "metadata": {},
     "output_type": "execute_result"
    }
   ],
   "source": [
    "# Смотрим метрики для ТОП5 предсказанных слов на основе двух предыдущих слов\n",
    "metric(transf_model, seq_len=2, top=5)"
   ]
  },
  {
   "cell_type": "markdown",
   "metadata": {},
   "source": [
    "## Выводы\n",
    "Грусть-печаль(( Куча убитого времени и нервов, перебор кучи разных моделей, но в итоге мои трансформеры, на которые я так расчитывал, оказались на порядок-два хуже, чем самая простоя модель на цепях Маркова, да ещё и предсказывает дольше.\n",
    "\n",
    "At least i tried...😔"
   ]
  }
 ],
 "metadata": {
  "kernelspec": {
   "display_name": "Python 3",
   "language": "python",
   "name": "python3"
  },
  "language_info": {
   "codemirror_mode": {
    "name": "ipython",
    "version": 3
   },
   "file_extension": ".py",
   "mimetype": "text/x-python",
   "name": "python",
   "nbconvert_exporter": "python",
   "pygments_lexer": "ipython3",
   "version": "3.8.3"
  }
 },
 "nbformat": 4,
 "nbformat_minor": 4
}
